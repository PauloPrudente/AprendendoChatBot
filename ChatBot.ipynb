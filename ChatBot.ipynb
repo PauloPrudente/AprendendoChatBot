{
  "nbformat": 4,
  "nbformat_minor": 0,
  "metadata": {
    "colab": {
      "name": "Untitled",
      "provenance": [],
      "authorship_tag": "ABX9TyMCOc+3Q49YV7fN4sd3NCqp",
      "include_colab_link": true
    },
    "kernelspec": {
      "name": "python3",
      "display_name": "Python 3"
    }
  },
  "cells": [
    {
      "cell_type": "markdown",
      "metadata": {
        "id": "view-in-github",
        "colab_type": "text"
      },
      "source": [
        "<a href=\"https://colab.research.google.com/github/PauloPrudente/AprendendoChatBot/blob/main/ChatBot.ipynb\" target=\"_parent\"><img src=\"https://colab.research.google.com/assets/colab-badge.svg\" alt=\"Open In Colab\"/></a>"
      ]
    },
    {
      "cell_type": "markdown",
      "metadata": {
        "id": "J9khgJ3GqNPC"
      },
      "source": [
        "Construindo um Chatbot\n",
        "https://www.linkedin.com/pulse/construindo-um-chatbot-em-10-minutos-python-rodrigo-correa/"
      ]
    },
    {
      "cell_type": "code",
      "metadata": {
        "id": "rQSO_TeXpdfY"
      },
      "source": [
        "!pip install ChatterBot\n",
        "!pip install ChatterBot-corpus\n",
        "!pip install awscli==1.11.18"
      ],
      "execution_count": null,
      "outputs": []
    },
    {
      "cell_type": "code",
      "metadata": {
        "id": "tcyjdlrbqDAF"
      },
      "source": [
        "from chatterbot import ChatBot\n",
        "from chatterbot.trainers import ListTrainer\n",
        "from chatterbot.trainers import ChatterBotCorpusTrainer"
      ],
      "execution_count": null,
      "outputs": []
    },
    {
      "cell_type": "code",
      "metadata": {
        "id": "iVMIFs7Kq3jm"
      },
      "source": [
        "bot = ChatBot('PP')"
      ],
      "execution_count": null,
      "outputs": []
    },
    {
      "cell_type": "code",
      "metadata": {
        "id": "xFh9tazBrIUC"
      },
      "source": [
        "bot = ChatBot(\n",
        "    'PP',\n",
        "    storage_adapter='chatterbot.storage.SQLStorageAdapter',\n",
        "    database_uri='sqlite:///database.sqlite3'\n",
        ")"
      ],
      "execution_count": null,
      "outputs": []
    },
    {
      "cell_type": "code",
      "metadata": {
        "id": "pQ4wGhbzri5P"
      },
      "source": [
        "bot = ChatBot(\n",
        "    'PP',  \n",
        "    logic_adapters=[\n",
        "        'chatterbot.logic.BestMatch', 'chatterbot.logic.MathematicalEvaluation'],\n",
        ")"
      ],
      "execution_count": null,
      "outputs": []
    },
    {
      "cell_type": "code",
      "metadata": {
        "id": "vtiZqf-9sSBI"
      },
      "source": [
        "conversa = ChatterBotCorpusTrainer(bot)\n",
        "conversa.train('chatterbot.corpus.portuguese')"
      ],
      "execution_count": null,
      "outputs": []
    },
    {
      "cell_type": "code",
      "metadata": {
        "id": "-8Wz-4RsslJH"
      },
      "source": [
        "conversa.train('chatterbot.corpus.english')\n",
        "conversa.train('chatterbot.corpus.spanish')\n",
        "conversa.train('chatterbot.corpus.german')"
      ],
      "execution_count": null,
      "outputs": []
    },
    {
      "cell_type": "code",
      "metadata": {
        "id": "ExvQS7d-s3HZ"
      },
      "source": [
        "conversa = ListTrainer(bot)\n",
        "conversa.train([\n",
        "    'Oi?', \n",
        "    'Eae, tudo certo?',\n",
        "    'Qual o seu nome?', \n",
        "    'PP, seu amigo bot',\n",
        "    'Por que seu nome é PP?', \n",
        "    'PP é meu nome, sou um chatbot criado para diversão',\n",
        "    'Prazer em te conhecer', \n",
        "    'Igualmente meu querido',\n",
        "    'Quantos anos você tem?', \n",
        "    'Eu nasci em 2020, faz as contas, rs.',\n",
        "    'Você gosta de videogame?', \n",
        "    'Eu sou um bot, eu só apelo.',\n",
        "    'Qual a capital da Islândia?', \n",
        "    'Reikjavik, lá é muito bonito.',\n",
        "    'Qual o seu personagem favorito?', \n",
        "    'Gandalf, o mago.',\n",
        "    'Qual a sua bebida favorita?', \n",
        "    'Eu bebo café, o motor de todos os programas de computador.',\n",
        "    'Qual o seu gênero?', \n",
        "    'Sou um chatbot e gosto de algoritmos',\n",
        "    'Conte uma história', \n",
        "    'Tudo começou com a forja dos Grandes Aneis. Três foram dados aos Elfos, imortais... os mais sabios e belos de todos os seres. Sete, aos Senhores-Anões...',\n",
        "    'Você gosta de trivias?', 'Sim, o que você quer perguntar?',\n",
        "    'Hahahaha', 'kkkk',\n",
        "    'kkk', 'kkkk',\n",
        "    'Conhece a Siri?', 'Conheço, a gente saiu por um tempo.',\n",
        "    'Conhece a Alexa?', 'Ela nunca deu bola pra mim.',\n",
        "    'Você gosta de Game of Thrones?', 'Dracarys',\n",
        "    'O que você faz?', 'Eu bebo e sei das coisas',\n",
        "    'Errado', 'Você não sabe de nada, John Snow.'\n",
        "    ])"
      ],
      "execution_count": null,
      "outputs": []
    },
    {
      "cell_type": "code",
      "metadata": {
        "id": "lx41SDz4tJJD"
      },
      "source": [
        "while True:\n",
        "    try:\n",
        "        resposta = bot.get_response(input(\"Usuário: \"))\n",
        "        if float(resposta.confidence) > 0.2:\n",
        "            print(\"PP: \", resposta)\n",
        "        else:\n",
        "            print(\"Não manjo dessas paradas :(\")\n",
        "    except(KeyboardInterrupt, EOFError, SystemExit):\n",
        "        break"
      ],
      "execution_count": null,
      "outputs": []
    }
  ]
}