{
  "nbformat": 4,
  "nbformat_minor": 0,
  "metadata": {
    "colab": {
      "name": "Untitled",
      "provenance": [],
      "authorship_tag": "ABX9TyNPZsLqd2Vhe4Iy24Mbl0uP",
      "include_colab_link": true
    },
    "kernelspec": {
      "name": "python3",
      "display_name": "Python 3"
    }
  },
  "cells": [
    {
      "cell_type": "markdown",
      "metadata": {
        "id": "view-in-github",
        "colab_type": "text"
      },
      "source": [
        "<a href=\"https://colab.research.google.com/github/PauloPrudente/AprendendoChatBot/blob/main/ChatBot.ipynb\" target=\"_parent\"><img src=\"https://colab.research.google.com/assets/colab-badge.svg\" alt=\"Open In Colab\"/></a>"
      ]
    },
    {
      "cell_type": "markdown",
      "metadata": {
        "id": "J9khgJ3GqNPC"
      },
      "source": [
        "Construindo um Chatbot\n",
        "https://www.linkedin.com/pulse/construindo-um-chatbot-em-10-minutos-python-rodrigo-correa/"
      ]
    },
    {
      "cell_type": "code",
      "metadata": {
        "id": "rQSO_TeXpdfY",
        "outputId": "bb230fd4-99da-4daa-dbd0-98659ddc8a9e",
        "colab": {
          "base_uri": "https://localhost:8080/"
        }
      },
      "source": [
        "!pip install ChatterBot\n",
        "!pip install ChatterBot-corpus\n",
        "!pip install awscli==1.11.18"
      ],
      "execution_count": null,
      "outputs": [
        {
          "output_type": "stream",
          "text": [
            "Requirement already satisfied: ChatterBot in /usr/local/lib/python3.6/dist-packages (1.0.8)\n",
            "Requirement already satisfied: pytz in /usr/local/lib/python3.6/dist-packages (from ChatterBot) (2018.9)\n",
            "Requirement already satisfied: python-dateutil<2.9,>=2.8 in /usr/local/lib/python3.6/dist-packages (from ChatterBot) (2.8.1)\n",
            "Requirement already satisfied: sqlalchemy<1.4,>=1.3 in /usr/local/lib/python3.6/dist-packages (from ChatterBot) (1.3.20)\n",
            "Requirement already satisfied: mathparse<0.2,>=0.1 in /usr/local/lib/python3.6/dist-packages (from ChatterBot) (0.1.2)\n",
            "Requirement already satisfied: six>=1.5 in /usr/local/lib/python3.6/dist-packages (from python-dateutil<2.9,>=2.8->ChatterBot) (1.15.0)\n",
            "Requirement already satisfied: ChatterBot-corpus in /usr/local/lib/python3.6/dist-packages (1.2.0)\n",
            "Requirement already satisfied: PyYAML<4.0,>=3.12 in /usr/local/lib/python3.6/dist-packages (from ChatterBot-corpus) (3.13)\n",
            "Requirement already satisfied: awscli==1.11.18 in /usr/local/lib/python3.6/dist-packages (1.11.18)\n",
            "Requirement already satisfied: botocore==1.4.75 in /usr/local/lib/python3.6/dist-packages (from awscli==1.11.18) (1.4.75)\n",
            "Requirement already satisfied: rsa<=3.5.0,>=3.1.2 in /usr/local/lib/python3.6/dist-packages (from awscli==1.11.18) (3.4.2)\n",
            "Requirement already satisfied: s3transfer<0.2.0,>=0.1.9 in /usr/local/lib/python3.6/dist-packages (from awscli==1.11.18) (0.1.13)\n",
            "Requirement already satisfied: colorama<=0.3.7,>=0.2.5 in /usr/local/lib/python3.6/dist-packages (from awscli==1.11.18) (0.3.7)\n",
            "Requirement already satisfied: docutils>=0.10 in /usr/local/lib/python3.6/dist-packages (from awscli==1.11.18) (0.16)\n",
            "Requirement already satisfied: jmespath<1.0.0,>=0.7.1 in /usr/local/lib/python3.6/dist-packages (from botocore==1.4.75->awscli==1.11.18) (0.10.0)\n",
            "Requirement already satisfied: python-dateutil<3.0.0,>=2.1 in /usr/local/lib/python3.6/dist-packages (from botocore==1.4.75->awscli==1.11.18) (2.8.1)\n",
            "Requirement already satisfied: pyasn1>=0.1.3 in /usr/local/lib/python3.6/dist-packages (from rsa<=3.5.0,>=3.1.2->awscli==1.11.18) (0.4.8)\n",
            "Requirement already satisfied: six>=1.5 in /usr/local/lib/python3.6/dist-packages (from python-dateutil<3.0.0,>=2.1->botocore==1.4.75->awscli==1.11.18) (1.15.0)\n"
          ],
          "name": "stdout"
        }
      ]
    },
    {
      "cell_type": "code",
      "metadata": {
        "id": "tcyjdlrbqDAF"
      },
      "source": [
        "from chatterbot import ChatBot\n",
        "from chatterbot.trainers import ListTrainer\n",
        "from chatterbot.trainers import ChatterBotCorpusTrainer"
      ],
      "execution_count": null,
      "outputs": []
    },
    {
      "cell_type": "code",
      "metadata": {
        "id": "iVMIFs7Kq3jm"
      },
      "source": [
        "bot = ChatBot('PP')"
      ],
      "execution_count": null,
      "outputs": []
    },
    {
      "cell_type": "code",
      "metadata": {
        "id": "xFh9tazBrIUC"
      },
      "source": [
        "bot = ChatBot(\n",
        "    'PP',\n",
        "    storage_adapter='chatterbot.storage.SQLStorageAdapter',\n",
        "    database_uri='sqlite:///database.sqlite3'\n",
        ")"
      ],
      "execution_count": null,
      "outputs": []
    },
    {
      "cell_type": "code",
      "metadata": {
        "id": "pQ4wGhbzri5P"
      },
      "source": [
        "bot = ChatBot(\n",
        "    'PP',  \n",
        "    logic_adapters=[\n",
        "        'chatterbot.logic.BestMatch', 'chatterbot.logic.MathematicalEvaluation'],\n",
        ")"
      ],
      "execution_count": null,
      "outputs": []
    },
    {
      "cell_type": "code",
      "metadata": {
        "id": "vtiZqf-9sSBI",
        "outputId": "41b0b44c-bc76-4957-d1af-749677cfe86c",
        "colab": {
          "base_uri": "https://localhost:8080/"
        }
      },
      "source": [
        "conversa = ChatterBotCorpusTrainer(bot)\n",
        "conversa.train('chatterbot.corpus.portuguese')"
      ],
      "execution_count": null,
      "outputs": [
        {
          "output_type": "stream",
          "text": [
            "Training compliment.yml: [####################] 100%\n",
            "Training conversations.yml: [####################] 100%\n",
            "Training greetings.yml: [####################] 100%\n",
            "Training linguistic_knowledge.yml: [####################] 100%\n",
            "Training proverbs.yml: [####################] 100%\n",
            "Training suggestions.yml: [####################] 100%\n",
            "Training trivia.yml: [####################] 100%\n",
            "Training unilab.yml: [####################] 100%\n"
          ],
          "name": "stdout"
        }
      ]
    },
    {
      "cell_type": "code",
      "metadata": {
        "id": "-8Wz-4RsslJH",
        "outputId": "ee545553-975f-4266-b894-0a59239d9639",
        "colab": {
          "base_uri": "https://localhost:8080/"
        }
      },
      "source": [
        "conversa.train('chatterbot.corpus.english')\n",
        "conversa.train('chatterbot.corpus.spanish')\n",
        "conversa.train('chatterbot.corpus.german')"
      ],
      "execution_count": null,
      "outputs": [
        {
          "output_type": "stream",
          "text": [
            "Training ai.yml: [####################] 100%\n",
            "Training botprofile.yml: [####################] 100%\n",
            "Training computers.yml: [####################] 100%\n",
            "Training conversations.yml: [####################] 100%\n",
            "Training emotion.yml: [####################] 100%\n",
            "Training food.yml: [####################] 100%\n",
            "Training gossip.yml: [####################] 100%\n",
            "Training greetings.yml: [####################] 100%\n",
            "Training health.yml: [####################] 100%\n",
            "Training history.yml: [####################] 100%\n",
            "Training humor.yml: [####################] 100%\n",
            "Training literature.yml: [####################] 100%\n",
            "Training money.yml: [####################] 100%\n",
            "Training movies.yml: [####################] 100%\n",
            "Training politics.yml: [####################] 100%\n",
            "Training psychology.yml: [####################] 100%\n",
            "Training science.yml: [####################] 100%\n",
            "Training sports.yml: [####################] 100%\n",
            "Training trivia.yml: [####################] 100%\n",
            "Training conversations.yml: [####################] 100%\n",
            "Training greetings.yml: [####################] 100%\n",
            "Training trivia.yml: [####################] 100%\n",
            "Training conversations.yml: [####################] 100%\n",
            "Training greetings.yml: [####################] 100%\n"
          ],
          "name": "stdout"
        }
      ]
    },
    {
      "cell_type": "code",
      "metadata": {
        "id": "ExvQS7d-s3HZ",
        "outputId": "d45f34ff-9426-4d71-c98b-6c8d28cb03f8",
        "colab": {
          "base_uri": "https://localhost:8080/"
        }
      },
      "source": [
        "conversa = ListTrainer(bot)\n",
        "conversa.train([\n",
        "    'Oi?', \n",
        "    'Eae, tudo certo?',\n",
        "    'Qual o seu nome?', \n",
        "    'PP, seu amigo bot',\n",
        "    'Por que seu nome é PP?', \n",
        "    'PP é meu nome, sou um chatbot criado para diversão',\n",
        "    'Prazer em te conhecer', \n",
        "    'Igualmente meu querido',\n",
        "    'Quantos anos você tem?', \n",
        "    'Eu nasci em 2020, faz as contas, rs.',\n",
        "    'Você gosta de videogame?', \n",
        "    'Eu sou um bot, eu só apelo.',\n",
        "    'Qual a capital da Islândia?', \n",
        "    'Reikjavik, lá é muito bonito.',\n",
        "    'Qual o seu personagem favorito?', \n",
        "    'Gandalf, o mago.',\n",
        "    'Qual a sua bebida favorita?', \n",
        "    'Eu bebo café, o motor de todos os programas de computador.',\n",
        "    'Qual o seu gênero?', \n",
        "    'Sou um chatbot e gosto de algoritmos',\n",
        "    'Conte uma história', \n",
        "    'Tudo começou com a forja dos Grandes Aneis. Três foram dados aos Elfos, imortais... os mais sabios e belos de todos os seres. Sete, aos Senhores-Anões...',\n",
        "    'Você gosta de trivias?', 'Sim, o que você quer perguntar?',\n",
        "    'Hahahaha', 'kkkk',\n",
        "    'kkk', 'kkkk',\n",
        "    'Conhece a Siri?', 'Conheço, a gente saiu por um tempo.',\n",
        "    'Conhece a Alexa?', 'Ela nunca deu bola pra mim.',\n",
        "    'Você gosta de Game of Thrones?', 'Dracarys',\n",
        "    'O que você faz?', 'Eu bebo e sei das coisas',\n",
        "    'Errado', 'Você não sabe de nada, John Snow.'\n",
        "    ])"
      ],
      "execution_count": null,
      "outputs": [
        {
          "output_type": "stream",
          "text": [
            "List Trainer: [####################] 100%\n"
          ],
          "name": "stdout"
        }
      ]
    },
    {
      "cell_type": "code",
      "metadata": {
        "id": "lx41SDz4tJJD",
        "outputId": "8e398bfa-85b9-4c2b-ec39-c5cbb6799770",
        "colab": {
          "base_uri": "https://localhost:8080/"
        }
      },
      "source": [
        "while True:\n",
        "    try:\n",
        "        resposta = bot.get_response(input(\"Usuário: \"))\n",
        "        if float(resposta.confidence) > -0.2:\n",
        "            print(\"PP: \", resposta)\n",
        "        else:\n",
        "            print(\"Não manjo dessas paradas :(\")\n",
        "    except(KeyboardInterrupt, EOFError, SystemExit):\n",
        "        break"
      ],
      "execution_count": null,
      "outputs": [
        {
          "output_type": "stream",
          "text": [
            "Usuário: vai chover?\n",
            "PP:  Tell me a joke\n",
            "Usuário: por que?\n",
            "PP:  Tell me a joke\n",
            "Usuário: para\n",
            "PP:  you are self\n",
            "Usuário: como?\n",
            "PP:  é porque te vi\n",
            "Usuário: kkkkkkkkk\n",
            "PP:  Muito bem!\n",
            "Usuário: quieto\n",
            "PP:  That seems one of the defining characteristics of the human race.\n"
          ],
          "name": "stdout"
        }
      ]
    }
  ]
}